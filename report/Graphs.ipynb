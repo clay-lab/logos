{
 "cells": [
  {
   "cell_type": "markdown",
   "metadata": {},
   "source": [
    "# Graphs and things"
   ]
  },
  {
   "cell_type": "code",
   "execution_count": 1,
   "metadata": {},
   "outputs": [
    {
     "name": "stdout",
     "output_type": "stream",
     "text": [
      "zsh:1: parse error near `-m'\n"
     ]
    }
   ],
   "source": [
    "# Installs\n",
    "!{sys.executable} -m pip install pandas cox torch dill tensorboardX tables matplotlib"
   ]
  },
  {
   "cell_type": "code",
   "execution_count": 2,
   "metadata": {},
   "outputs": [],
   "source": [
    "# import cox\n",
    "from cox.store import Store\n",
    "import pandas as pd\n",
    "import os\n",
    "import matplotlib.pyplot as plt"
   ]
  },
  {
   "cell_type": "code",
   "execution_count": 3,
   "metadata": {},
   "outputs": [],
   "source": [
    "# Define some global variabls\n",
    "exp_dir = '../experiments'\n",
    "\n",
    "experiments = ['alice-epsilon-2', 'alice-epsilon-3', 'alice-epsilon-6', 'alice-epsilon-14']\n",
    "experiments = ['aline-epsilon-2']\n",
    "structures  = ['SRN-SRN-None', 'SRN-SRN-multiplicative', 'GRU-GRU-None', 'GRU-GRU-multiplicative']\n",
    "models      = ['model-1', 'model-2', 'model-3', 'model-4', 'model-5']"
   ]
  },
  {
   "cell_type": "markdown",
   "metadata": {},
   "source": [
    "# Alice Experiments"
   ]
  },
  {
   "cell_type": "code",
   "execution_count": 4,
   "metadata": {},
   "outputs": [
    {
     "name": "stdout",
     "output_type": "stream",
     "text": [
      "../experiments/aline-epsilon-2/SRN-SRN-None/model-1/logs\n"
     ]
    },
    {
     "ename": "KeyError",
     "evalue": "'alice_herself'",
     "output_type": "error",
     "traceback": [
      "\u001b[0;31m---------------------------------------------------------------------------\u001b[0m",
      "\u001b[0;31mKeyError\u001b[0m                                  Traceback (most recent call last)",
      "\u001b[0;32m<ipython-input-4-fbad49b5444e>\u001b[0m in \u001b[0;36m<module>\u001b[0;34m\u001b[0m\n\u001b[1;32m     11\u001b[0m \u001b[0;34m\u001b[0m\u001b[0m\n\u001b[1;32m     12\u001b[0m             \u001b[0;31m# Frames\u001b[0m\u001b[0;34m\u001b[0m\u001b[0;34m\u001b[0m\u001b[0;34m\u001b[0m\u001b[0m\n\u001b[0;32m---> 13\u001b[0;31m             \u001b[0malice_herself\u001b[0m \u001b[0;34m=\u001b[0m \u001b[0mstore\u001b[0m\u001b[0;34m[\u001b[0m\u001b[0;34m'alice_herself'\u001b[0m\u001b[0;34m]\u001b[0m\u001b[0;34m.\u001b[0m\u001b[0mdf\u001b[0m\u001b[0;34m\u001b[0m\u001b[0;34m\u001b[0m\u001b[0m\n\u001b[0m\u001b[1;32m     14\u001b[0m             \u001b[0mbob_himself\u001b[0m \u001b[0;34m=\u001b[0m \u001b[0mstore\u001b[0m\u001b[0;34m[\u001b[0m\u001b[0;34m'bob_himself'\u001b[0m\u001b[0;34m]\u001b[0m\u001b[0;34m.\u001b[0m\u001b[0mdf\u001b[0m\u001b[0;34m\u001b[0m\u001b[0;34m\u001b[0m\u001b[0m\n\u001b[1;32m     15\u001b[0m             \u001b[0mclaire_herself\u001b[0m \u001b[0;34m=\u001b[0m \u001b[0mstore\u001b[0m\u001b[0;34m[\u001b[0m\u001b[0;34m'claire_herself'\u001b[0m\u001b[0;34m]\u001b[0m\u001b[0;34m.\u001b[0m\u001b[0mdf\u001b[0m\u001b[0;34m\u001b[0m\u001b[0;34m\u001b[0m\u001b[0m\n",
      "\u001b[0;32m/usr/local/Cellar/jupyterlab/2.2.0/libexec/lib/python3.8/site-packages/cox/store.py\u001b[0m in \u001b[0;36m__getitem__\u001b[0;34m(self, table_id)\u001b[0m\n\u001b[1;32m    145\u001b[0m             \u001b[0mThe\u001b[0m \u001b[0mcorresponding\u001b[0m \u001b[0mtable\u001b[0m \u001b[0;34m(\u001b[0m\u001b[0mTable\u001b[0m \u001b[0mobject\u001b[0m\u001b[0;34m)\u001b[0m\u001b[0;34m.\u001b[0m\u001b[0;34m\u001b[0m\u001b[0;34m\u001b[0m\u001b[0m\n\u001b[1;32m    146\u001b[0m         '''\n\u001b[0;32m--> 147\u001b[0;31m         \u001b[0;32mreturn\u001b[0m \u001b[0mself\u001b[0m\u001b[0;34m.\u001b[0m\u001b[0mget_table\u001b[0m\u001b[0;34m(\u001b[0m\u001b[0mtable_id\u001b[0m\u001b[0;34m)\u001b[0m\u001b[0;34m\u001b[0m\u001b[0;34m\u001b[0m\u001b[0m\n\u001b[0m\u001b[1;32m    148\u001b[0m \u001b[0;34m\u001b[0m\u001b[0m\n\u001b[1;32m    149\u001b[0m     \u001b[0;32mdef\u001b[0m \u001b[0madd_table\u001b[0m\u001b[0;34m(\u001b[0m\u001b[0mself\u001b[0m\u001b[0;34m,\u001b[0m \u001b[0mtable_name\u001b[0m\u001b[0;34m,\u001b[0m \u001b[0mschema\u001b[0m\u001b[0;34m)\u001b[0m\u001b[0;34m:\u001b[0m\u001b[0;34m\u001b[0m\u001b[0;34m\u001b[0m\u001b[0m\n",
      "\u001b[0;32m/usr/local/Cellar/jupyterlab/2.2.0/libexec/lib/python3.8/site-packages/cox/store.py\u001b[0m in \u001b[0;36mget_table\u001b[0;34m(self, table_id)\u001b[0m\n\u001b[1;32m    133\u001b[0m             \u001b[0mThe\u001b[0m \u001b[0mcorresponding\u001b[0m \u001b[0mtable\u001b[0m \u001b[0;34m(\u001b[0m\u001b[0mTable\u001b[0m \u001b[0mobject\u001b[0m\u001b[0;34m)\u001b[0m\u001b[0;34m.\u001b[0m\u001b[0;34m\u001b[0m\u001b[0;34m\u001b[0m\u001b[0m\n\u001b[1;32m    134\u001b[0m         '''\n\u001b[0;32m--> 135\u001b[0;31m         \u001b[0;32mreturn\u001b[0m \u001b[0mself\u001b[0m\u001b[0;34m.\u001b[0m\u001b[0mtables\u001b[0m\u001b[0;34m[\u001b[0m\u001b[0mtable_id\u001b[0m\u001b[0;34m]\u001b[0m\u001b[0;34m\u001b[0m\u001b[0;34m\u001b[0m\u001b[0m\n\u001b[0m\u001b[1;32m    136\u001b[0m \u001b[0;34m\u001b[0m\u001b[0m\n\u001b[1;32m    137\u001b[0m     \u001b[0;32mdef\u001b[0m \u001b[0m__getitem__\u001b[0m\u001b[0;34m(\u001b[0m\u001b[0mself\u001b[0m\u001b[0;34m,\u001b[0m \u001b[0mtable_id\u001b[0m\u001b[0;34m)\u001b[0m\u001b[0;34m:\u001b[0m\u001b[0;34m\u001b[0m\u001b[0;34m\u001b[0m\u001b[0m\n",
      "\u001b[0;31mKeyError\u001b[0m: 'alice_herself'"
     ]
    }
   ],
   "source": [
    "for e in experiments:\n",
    "    task_dir = os.path.join(exp_dir, e)\n",
    "    for s in structures:\n",
    "        struct_dir = os.path.join(task_dir, s)\n",
    "        for m in models:\n",
    "            model_dir = os.path.join(struct_dir, m)\n",
    "            log_dir = os.path.join(model_dir, 'logs')\n",
    "            \n",
    "            print(log_dir)\n",
    "            store = Store(log_dir, 'training')\n",
    "\n",
    "            # Frames\n",
    "            alice_herself = store['alice_herself'].df\n",
    "            bob_himself = store['bob_himself'].df\n",
    "            claire_herself = store['claire_herself'].df\n",
    "            daniel_himself = store['daniel_himself'].df\n",
    "            eliza_herself = store['eliza_herself'].df\n",
    "            francis_himself = store['francis_himself'].df\n",
    "            grace_herself = store['grace_herself'].df\n",
    "            validation = store['validation'].df\n",
    "\n",
    "            # Accuracies\n",
    "            alice_acc = alice_herself['sentence-level-accuracy']\n",
    "            bob_acc = bob_himself['sentence-level-accuracy']\n",
    "            claire_acc = claire_herself['sentence-level-accuracy']\n",
    "            daniel_acc = daniel_himself['sentence-level-accuracy']\n",
    "            eliza_acc = eliza_herself['sentence-level-accuracy']\n",
    "            francis_acc = francis_himself['sentence-level-accuracy']\n",
    "            grace_acc = grace_herself['sentence-level-accuracy']\n",
    "            val_acc = validation['sentence-level-accuracy']\n",
    "            \n",
    "            # Per-Experiment Accuracy\n",
    "            if e == 'alice-epsilon-2':\n",
    "                genframe = pd.concat([alice_acc, claire_acc], axis=1)\n",
    "                gen_acc = genframe.mean(axis=1)\n",
    "                gen_min = genframe.min(axis=1)\n",
    "                gen_max = genframe.max(axis=1)\n",
    "            elif e == 'alice-epsilon-3':\n",
    "                gen_acc = pd.concat([alice_acc, claire_acc, eliza_acc], axis=1).mean(axis=1)\n",
    "            elif e == 'alice-epsilon-6':\n",
    "                gen_acc = pd.concat([alice_acc, claire_acc, eliza_acc, grace_acc], axis=1).mean(axis=1)\n",
    "            else:\n",
    "                isla_herself = store['isla_herself'].df\n",
    "                katherine_herself = store['katherine_herself'].df\n",
    "                margaret_herself = store['margaret_herself'].df\n",
    "                neha_herself = store['neha_herself'].df\n",
    "                patricia_herself = store['patricia_herself'].df\n",
    "                rachael_herself = store['rachael_herself'].df\n",
    "                tracy_herself = store['tracy_herself'].df\n",
    "                ursula_herself = store['ursula_herself'].df\n",
    "                winnifred_herself = store['winnifred_herself'].df\n",
    "                yvette_herself = store['yvette_herself'].df\n",
    "                \n",
    "                isla_acc = isla_herself['sentence-level-accuracy']\n",
    "                katherine_acc = katherine_herself['sentence-level-accuracy']\n",
    "                margaret_acc = margaret_herself['sentence-level-accuracy']\n",
    "                neha_acc = neha_herself['sentence-level-accuracy']\n",
    "                patricia_acc = patricia_herself['sentence-level-accuracy']\n",
    "                rachael_acc = rachael_herself['sentence-level-accuracy']\n",
    "                tracy_acc = tracy_herself['sentence-level-accuracy']\n",
    "                ursula_acc = ursula_herself['sentence-level-accuracy']\n",
    "                winnifred_acc = winnifred_herself['sentence-level-accuracy']\n",
    "                yvette_acc = yvette_herself['sentence-level-accuracy']\n",
    "                \n",
    "                gen_acc = pd.concat([alice_acc, claire_acc, eliza_acc, grace_acc, isla_acc, katherine_acc, margaret_acc, neha_acc, patricia_acc, rachael_acc, tracy_acc, ursula_acc, winnifred_acc, yvette_acc], axis=1).mean(axis=1)\n",
    "\n",
    "            total_acc = pd.concat([alice_acc, bob_acc, claire_acc, daniel_acc, eliza_acc, francis_acc, grace_acc, val_acc], axis=1)\n",
    "            total_acc.columns = ['alice_acc', 'bob_acc', 'claire_acc', 'daniel_acc', 'eliza_acc', 'francis_acc', 'grace_acc', 'val_acc']\n",
    "            \n",
    "            results = pd.concat([gen_acc, val_acc], axis=1)\n",
    "            results.columns = ['generalization', 'validation']\n",
    "\n",
    "            plt_title = '-'.join([e, s, m])\n",
    "            ax = results.plot(title=plt_title)\n",
    "            ax.set_xlabel('Epochs')\n",
    "            ax.set_ylabel('Accuracy')\n",
    "            plt.ylim(-.05,1.05)\n",
    "            plt.savefig(plt_title + '.png')\n",
    "            plt.close()"
   ]
  },
  {
   "cell_type": "code",
   "execution_count": null,
   "metadata": {},
   "outputs": [],
   "source": []
  },
  {
   "cell_type": "code",
   "execution_count": null,
   "metadata": {},
   "outputs": [],
   "source": []
  }
 ],
 "metadata": {
  "kernelspec": {
   "display_name": "Python 3",
   "language": "python",
   "name": "python3"
  },
  "language_info": {
   "codemirror_mode": {
    "name": "ipython",
    "version": 3
   },
   "file_extension": ".py",
   "mimetype": "text/x-python",
   "name": "python",
   "nbconvert_exporter": "python",
   "pygments_lexer": "ipython3",
   "version": "3.8.4"
  }
 },
 "nbformat": 4,
 "nbformat_minor": 4
}
